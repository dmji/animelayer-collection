{
 "cells": [
  {
   "cell_type": "code",
   "execution_count": 1,
   "metadata": {},
   "outputs": [],
   "source": [
    "#!pip install dearpygui"
   ]
  },
  {
   "cell_type": "code",
   "execution_count": 2,
   "metadata": {},
   "outputs": [],
   "source": [
    "from src.utils import *\n",
    "from src.database_structure import *\n",
    "import dearpygui.dearpygui as dpg"
   ]
  },
  {
   "cell_type": "code",
   "execution_count": 3,
   "metadata": {},
   "outputs": [],
   "source": [
    "all_files = get_json_files(FOLDER_DATABASE)"
   ]
  },
  {
   "cell_type": "code",
   "execution_count": 4,
   "metadata": {},
   "outputs": [],
   "source": [
    "files = all_files[0:50]"
   ]
  },
  {
   "cell_type": "code",
   "execution_count": 5,
   "metadata": {},
   "outputs": [],
   "source": [
    "items = []\n",
    "imagePaths = []\n",
    "for path in files:\n",
    "    item = TorrentData.from_json(path)\n",
    "    imagePaths.append([change_extension(path, get_extension(item.ref_image)), item.guid])\n",
    "    items.append(item)"
   ]
  },
  {
   "cell_type": "code",
   "execution_count": 6,
   "metadata": {},
   "outputs": [],
   "source": [
    "dpg.create_context()"
   ]
  },
  {
   "cell_type": "code",
   "execution_count": 7,
   "metadata": {},
   "outputs": [],
   "source": [
    "with dpg.font_registry():\n",
    "    with dpg.font(f'C:\\\\Windows\\\\Fonts\\\\calibri.ttf', 14, default_font=True, id=\"Default font\"):\n",
    "        dpg.add_font_range_hint(dpg.mvFontRangeHint_Cyrillic)\n",
    "dpg.bind_font(\"Default font\")"
   ]
  },
  {
   "cell_type": "code",
   "execution_count": 8,
   "metadata": {},
   "outputs": [],
   "source": [
    "loadedImages = []\n",
    "imageScale = 1\n",
    "for imagePath, guid in imagePaths:\n",
    "    width, height, channels, data = dpg.load_image(imagePath)\n",
    "    imageScale = height / width\n",
    "    with dpg.texture_registry(show=False):\n",
    "        dpg.add_static_texture(width=width, height=height, default_value=data, tag=guid)\n",
    "\n",
    "w = 80\n",
    "h = w * imageScale"
   ]
  },
  {
   "cell_type": "code",
   "execution_count": 9,
   "metadata": {},
   "outputs": [],
   "source": [
    "def listSearch_callback(sender, app_data, user_data):\n",
    "    print(f\"sender is: {sender}\")\n",
    "    print(f\"app_data is: {app_data}\")\n",
    "    print(f\"user_data is: {user_data}\")\n",
    "    dpg.delete_item(\"table_items\", dpg.get_item_children(\"table_items\"))"
   ]
  },
  {
   "cell_type": "code",
   "execution_count": 10,
   "metadata": {},
   "outputs": [],
   "source": [
    "def checkbox_callback(sender, app_data, user_data):\n",
    "    print(f\"sender is: {sender}\")\n",
    "    print(f\"app_data is: {app_data}\")\n",
    "    print(f\"user_data is: {user_data}\")"
   ]
  },
  {
   "cell_type": "code",
   "execution_count": null,
   "metadata": {},
   "outputs": [],
   "source": [
    "def select_callback(sender, app_data, user_data):\n",
    "    print(f\"sender is: {sender}\")\n",
    "    print(f\"app_data is: {app_data}\")\n",
    "    print(f\"user_data is: {user_data}\")\n",
    "    dpg.clear"
   ]
  },
  {
   "cell_type": "code",
   "execution_count": 11,
   "metadata": {},
   "outputs": [],
   "source": [
    "with dpg.window(label=\"Filters\", width=200, height=1200):\n",
    "    with dpg.group(horizontal=False):\n",
    "        dpg.add_radio_button(label=\"Test\",items=[\"Anime\", \"Hentai\", \"Music\", \"Manga\", \"Dorama\"], default_value='Anime', callback=checkbox_callback)\n",
    "\n",
    "        dpg.add_separator(label=\"SectionToGenreSeparator\")\n",
    "\n",
    "        with dpg.table(label=\"GenreCategories\", header_row=True):\n",
    "                dpg.add_table_column(label=\"\",width=20,width_fixed=True)\n",
    "                dpg.add_table_column(label=\"Category\",width=w-20,width_fixed=True)\n",
    "                with dpg.table_row():\n",
    "                    dpg.add_checkbox(callback=checkbox_callback, user_data=\"Data1\")\n",
    "                    dpg.add_text(\"1\")"
   ]
  },
  {
   "cell_type": "code",
   "execution_count": 12,
   "metadata": {},
   "outputs": [],
   "source": [
    "with dpg.window(label=\"List\", height=1200, pos=[210, 0]):\n",
    "        with dpg.group(horizontal=False):\n",
    "            dpg.add_input_text(callback=listSearch_callback)\n",
    "\n",
    "            with dpg.table(label=\"table_items\", header_row=True):\n",
    "\n",
    "                # use add_table_column to add columns to the table,\n",
    "                # table columns use child slot 0\n",
    "                dpg.add_table_column(label=\"Poster\",width=w,width_fixed=True)\n",
    "                dpg.add_table_column(label=\"Name\")\n",
    "                dpg.add_table_column(label=\"\", width=0)\n",
    "\n",
    "                # add_table_next_column will jump to the next row\n",
    "                # once it reaches the end of the columns\n",
    "                # table next column use slot 1\n",
    "                for item in items:\n",
    "                    with dpg.table_row():\n",
    "                        imgItem = f\"image:{item.guid}\"\n",
    "                        dpg.add_image(item.guid, width=w, height=h)\n",
    "                        textItem = f\"text:{item.guid}\"\n",
    "                        dpg.add_text(str(item.name), wrap=150, tag=textItem)\n",
    "                        dpg.add_selectable(callback=select_callback, span_columns=True, height=max(h, dpg.get_item_height(textItem)))\n",
    "                        \n",
    "            with dpg.group(horizontal=True):\n",
    "                dpg.add_button(label=\"1\")\n",
    "                dpg.add_button(label=\"2\")\n",
    "                dpg.add_button(label=\"3\")\n",
    "            "
   ]
  },
  {
   "cell_type": "code",
   "execution_count": 13,
   "metadata": {},
   "outputs": [
    {
     "name": "stdout",
     "output_type": "stream",
     "text": [
      "sender is: 144\n",
      "app_data is: True\n",
      "user_data is: None\n",
      "sender is: 148\n",
      "app_data is: True\n",
      "user_data is: None\n",
      "sender is: 320\n",
      "app_data is: True\n",
      "user_data is: None\n",
      "sender is: 320\n",
      "app_data is: False\n",
      "user_data is: None\n",
      "sender is: 320\n",
      "app_data is: True\n",
      "user_data is: None\n",
      "sender is: 320\n",
      "app_data is: False\n",
      "user_data is: None\n"
     ]
    }
   ],
   "source": [
    "dpg.create_viewport(title='AnimeLayersCollection', width=1200, height=1200)\n",
    "dpg.setup_dearpygui()\n",
    "dpg.show_viewport()\n",
    "dpg.start_dearpygui()\n",
    "dpg.destroy_context()"
   ]
  },
  {
   "cell_type": "markdown",
   "metadata": {},
   "source": [
    "import dearpygui.dearpygui as dpg\n",
    "\n",
    "dpg.create_context()\n",
    "\n",
    "with dpg.window(label=\"Main Window\"):\n",
    "    with dpg.group(horizontal=True):\n",
    "        dpg.add_button(label=\"Add Category\")\n",
    "    \n",
    "    dpg.add_listbox(label=\"Categories\", width=200)\n",
    "\n",
    "    with dpg.table(header_row=True, row_background=True, height=400,\n",
    "                   borders_innerH=True, borders_innerV=True):\n",
    "        dpg.add_table_column(label=\"Image\")\n",
    "        dpg.add_table_column(label=\"Description\")\n",
    "    \n",
    "    \n",
    "dpg.create_viewport(title='Custom Title', width=800, height=600)\n",
    "dpg.setup_dearpygui()\n",
    "dpg.show_viewport()\n",
    "dpg.start_dearpygui()\n",
    "dpg.destroy_context()"
   ]
  },
  {
   "cell_type": "markdown",
   "metadata": {},
   "source": [
    "import dearpygui.dearpygui as dpg\n",
    "\n",
    "dpg.create_context()\n",
    "\n",
    "with dpg.theme() as table_theme:\n",
    "    with dpg.theme_component(dpg.mvTable):\n",
    "        # dpg.add_theme_color(dpg.mvThemeCol_HeaderHovered, (255, 0, 0, 100), category=dpg.mvThemeCat_Core)\n",
    "        dpg.add_theme_color(dpg.mvThemeCol_HeaderActive, (0, 0, 0, 0), category=dpg.mvThemeCat_Core)\n",
    "        dpg.add_theme_color(dpg.mvThemeCol_Header, (0, 0, 0, 0), category=dpg.mvThemeCat_Core)\n",
    "\n",
    "def clb_selectable(sender, app_data, user_data):\n",
    "    print(f\"Row {user_data}\")\n",
    "\n",
    "with dpg.window(tag=\"Selectable Tables\"):\n",
    "    with dpg.table(tag=\"SelectRows\", header_row=True) as selectablerows:\n",
    "        dpg.add_table_column(label=\"First\")\n",
    "        dpg.add_table_column(label=\"Second\")\n",
    "        dpg.add_table_column(label=\"Third\")\n",
    "\n",
    "        for i in range(15):\n",
    "            with dpg.table_row():\n",
    "                for j in range(3):\n",
    "                    dpg.add_selectable(label=f\"Row{i} Column{j}\", span_columns=True, callback=clb_selectable, user_data=i)\n",
    "    dpg.bind_item_theme(selectablerows, table_theme)\n",
    "\n",
    "    with dpg.table(tag=\"SelectCells\", header_row=True) as selectablecells:\n",
    "        dpg.add_table_column(label=\"First\")\n",
    "        dpg.add_table_column(label=\"Second\")\n",
    "        dpg.add_table_column(label=\"Third\")\n",
    "\n",
    "        for i in range(15):\n",
    "            with dpg.table_row():\n",
    "                for j in range(3):\n",
    "                    dpg.add_selectable(label=f\"Row{i} Column{j}\", callback=clb_selectable, user_data=(i,j))\n",
    "    dpg.bind_item_theme(selectablecells, table_theme)\n",
    "\n",
    "dpg.create_viewport(width=800, height=600)\n",
    "dpg.setup_dearpygui()\n",
    "dpg.show_viewport()\n",
    "dpg.start_dearpygui()\n",
    "dpg.destroy_context()"
   ]
  }
 ],
 "metadata": {
  "kernelspec": {
   "display_name": "Python 3",
   "language": "python",
   "name": "python3"
  },
  "language_info": {
   "codemirror_mode": {
    "name": "ipython",
    "version": 3
   },
   "file_extension": ".py",
   "mimetype": "text/x-python",
   "name": "python",
   "nbconvert_exporter": "python",
   "pygments_lexer": "ipython3",
   "version": "3.10.6"
  }
 },
 "nbformat": 4,
 "nbformat_minor": 2
}

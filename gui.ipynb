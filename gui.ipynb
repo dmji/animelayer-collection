{
 "cells": [
  {
   "cell_type": "code",
   "execution_count": 1,
   "metadata": {},
   "outputs": [],
   "source": [
    "#!pip install dearpygui"
   ]
  },
  {
   "cell_type": "code",
   "execution_count": 2,
   "metadata": {},
   "outputs": [],
   "source": [
    "from src.utils import *\n",
    "from src.database_torrentitem import *\n",
    "import dearpygui.dearpygui as dpg"
   ]
  },
  {
   "cell_type": "code",
   "execution_count": 19,
   "metadata": {},
   "outputs": [],
   "source": [
    "categories = os.listdir(FOLDER_DATABASE)"
   ]
  },
  {
   "cell_type": "code",
   "execution_count": 18,
   "metadata": {},
   "outputs": [
    {
     "data": {
      "text/plain": [
       "'db\\\\anime\\\\56c1b17ce1cf6851038b4621.json'"
      ]
     },
     "execution_count": 18,
     "metadata": {},
     "output_type": "execute_result"
    }
   ],
   "source": [
    "path"
   ]
  },
  {
   "cell_type": "code",
   "execution_count": 16,
   "metadata": {},
   "outputs": [
    {
     "data": {
      "text/plain": [
       "56c1b179e1cf6851038b45b8: \n",
       "Fullmetal Alchemist: Premium Collection / Стальной алхимик OVA (4 из 4) Complete\n",
       "\n",
       "['\\n', '<u>Информация об аниме</u>', '<br/>', '\\n', '<strong>Страна: </strong>', 'Япония', '<br/>', '\\n', '<strong>Жанр: </strong>', 'приключения, фэнтези', '<br/>', '\\n', '<strong>Тип: </strong>', 'OAV', '<br/>', '\\n', '<strong>Год выхода: </strong>', '2006', '<br/>', '\\n', '<strong>Кол серий: </strong>', '4 эп', '<br/>', '\\n', '<strong>Режиссер: </strong>', 'Мидзусима Сэйдзи', '<br/>', '\\n', '<strong>Продолжительность: </strong>', '10 мин', '<br/>', '\\n', '<strong>Описание: </strong>', 'Все-таки японцы молодцы! ОВАшки получились своеобразным десертом к сериалу и мувику!', '<br/>', '\\r\\nТут для желающих отклик прошлых битв с гомункулами, не лишенный однако доли пафоса, уж слишком картинно все там появляются! Однако, сдобренный доброй долей оригинального Алхимического юмора, этот эпизод стоит того, чтобы его посмотреть и ещё раз вспомнить сериал!', '<br/>', '\\r\\nТут всем желающим и явный стеб на самих себя – тусовка после мувика! Это не описать – это надо видеть! В ней создатели сознательно выбиваются из тех характеров, которые мы знаем по сериалу и мувику! Хоукай со злобной ухмылкой и её команда дрессированных собак, напившая до чертиков Уинри, миловидный… скорее, миловиднАЯ Зависть… Вообщем, смотрите сами, и смейтесь сколько сможете!', '<br/>', '\\r\\nИ под конец… Удивление, смех, легкая грусть… Великолепный отрывок всего на 3 минуты… «Дедушка..» Так вот ты какой Эд в 2005 году… Дедушка.. столетний… с автопротезом и старой фотографией… и с внуками… Знаете, что самое обидное? После такой ОВКи не может быть продолжения… она как точка… Не вернулся Эд в свой мир… про Ала ничего не известно… Не знаю, это лишь мое ИМХО, но, мне кажется, как ни обидно, эта ОВКа вполне подходит для последней точки Алхимика…', '<br/>', '\\r\\nНо и в нашем мире живут они… Маленький Мустанг, мелкий Эд, Ал, Уинди… значит, это ещё не конец.', '<br/>', '\\n', '<br/>', '\\n', '<u>Дополнительно</u>', '<br/>', '\\n', '<strong>Формат: </strong>', 'avi', '<br/>', '\\n', '<strong>Разрешение: </strong>', '720x480', '<br/>', '\\n', '<strong>Субтитры: </strong>', 'английские (хардсаб), русские 1-3 (софтсаб)', '<br/>', '\\n', '<strong>Язык: </strong>', 'Японский\\t\\t', '\\n', '<u>Информация об аниме</u>', '<br/>', '\\n', '<strong>Страна: </strong>', 'Япония', '<br/>', '\\n', '<strong>Жанр: </strong>', 'приключения, фэнтези', '<br/>', '\\n', '<strong>Тип: </strong>', 'OAV', '<br/>', '\\n', '<strong>Год выхода: </strong>', '2006', '<br/>', '\\n', '<strong>Кол серий: </strong>', '4 эп', '<br/>', '\\n', '<strong>Режиссер: </strong>', 'Мидзусима Сэйдзи', '<br/>', '\\n', '<strong>Продолжительность: </strong>', '10 мин', '<br/>', '\\n', '<strong>Описание: </strong>', 'Все-таки японцы молодцы! ОВАшки получились своеобразным десертом к сериалу и мувику!', '<br/>', '\\r\\nТут для желающих отклик прошлых битв с гомункулами, не лишенный однако доли пафоса, уж слишком картинно все там появляются! Однако, сдобренный доброй долей оригинального Алхимического юмора, этот эпизод стоит того, чтобы его посмотреть и ещё раз вспомнить сериал!', '<br/>', '\\r\\nТут всем желающим и явный стеб на самих себя – тусовка после мувика! Это не описать – это надо видеть! В ней создатели сознательно выбиваются из тех характеров, которые мы знаем по сериалу и мувику! Хоукай со злобной ухмылкой и её команда дрессированных собак, напившая до чертиков Уинри, миловидный… скорее, миловиднАЯ Зависть… Вообщем, смотрите сами, и смейтесь сколько сможете!', '<br/>', '\\r\\nИ под конец… Удивление, смех, легкая грусть… Великолепный отрывок всего на 3 минуты… «Дедушка..» Так вот ты какой Эд в 2005 году… Дедушка.. столетний… с автопротезом и старой фотографией… и с внуками… Знаете, что самое обидное? После такой ОВКи не может быть продолжения… она как точка… Не вернулся Эд в свой мир… про Ала ничего не известно… Не знаю, это лишь мое ИМХО, но, мне кажется, как ни обидно, эта ОВКа вполне подходит для последней точки Алхимика…', '<br/>', '\\r\\nНо и в нашем мире живут они… Маленький Мустанг, мелкий Эд, Ал, Уинди… значит, это ещё не конец.', '<br/>', '\\n', '<br/>', '\\n', '<u>Дополнительно</u>', '<br/>', '\\n', '<strong>Формат: </strong>', 'avi', '<br/>', '\\n', '<strong>Разрешение: </strong>', '720x480', '<br/>', '\\n', '<strong>Субтитры: </strong>', 'английские (хардсаб), русские 1-3 (софтсаб)', '<br/>', '\\n', '<strong>Язык: </strong>', 'Японский\\t\\t']\n",
       "https://images.animelayer.ru/f11w_yf3IzIRKoCn36CBYQ/240x360/1/crop/42/02/56c1b179e1cf6851038b45b8_56c1b1795f541.jpg"
      ]
     },
     "execution_count": 16,
     "metadata": {},
     "output_type": "execute_result"
    }
   ],
   "source": [
    "item"
   ]
  },
  {
   "cell_type": "code",
   "execution_count": 21,
   "metadata": {},
   "outputs": [
    {
     "ename": "UnicodeDecodeError",
     "evalue": "'charmap' codec can't decode byte 0x8f in position 55: character maps to <undefined>",
     "output_type": "error",
     "traceback": [
      "\u001b[1;31m---------------------------------------------------------------------------\u001b[0m",
      "\u001b[1;31mUnicodeDecodeError\u001b[0m                        Traceback (most recent call last)",
      "Input \u001b[1;32mIn [21]\u001b[0m, in \u001b[0;36m<cell line: 4>\u001b[1;34m()\u001b[0m\n\u001b[0;32m      6\u001b[0m paths \u001b[38;5;241m=\u001b[39m get_json_files(os\u001b[38;5;241m.\u001b[39mpath\u001b[38;5;241m.\u001b[39mjoin(FOLDER_DATABASE, category))\n\u001b[0;32m      7\u001b[0m \u001b[38;5;28;01mfor\u001b[39;00m path \u001b[38;5;129;01min\u001b[39;00m paths:\n\u001b[1;32m----> 8\u001b[0m     item \u001b[38;5;241m=\u001b[39m \u001b[43mTorrentItem\u001b[49m\u001b[38;5;241;43m.\u001b[39;49m\u001b[43mfrom_json\u001b[49m\u001b[43m(\u001b[49m\u001b[43mpath\u001b[49m\u001b[43m)\u001b[49m\n",
      "File \u001b[1;32md:\\GitHubRepos\\animelayer-collection\\src\\database_structure.py:37\u001b[0m, in \u001b[0;36mTorrentItem.from_json\u001b[1;34m(path)\u001b[0m\n\u001b[0;32m     35\u001b[0m item \u001b[38;5;241m=\u001b[39m TorrentItem()\n\u001b[0;32m     36\u001b[0m \u001b[38;5;28;01mwith\u001b[39;00m \u001b[38;5;28mopen\u001b[39m(path, \u001b[38;5;124m'\u001b[39m\u001b[38;5;124mr\u001b[39m\u001b[38;5;124m'\u001b[39m) \u001b[38;5;28;01mas\u001b[39;00m file:\n\u001b[1;32m---> 37\u001b[0m     data \u001b[38;5;241m=\u001b[39m \u001b[43mjson\u001b[49m\u001b[38;5;241;43m.\u001b[39;49m\u001b[43mload\u001b[49m\u001b[43m(\u001b[49m\u001b[43mfile\u001b[49m\u001b[43m)\u001b[49m\n\u001b[0;32m     38\u001b[0m \u001b[38;5;28;01mif\u001b[39;00m(data \u001b[38;5;241m!=\u001b[39m \u001b[38;5;28;01mNone\u001b[39;00m):\n\u001b[0;32m     39\u001b[0m     temp \u001b[38;5;241m=\u001b[39m data\u001b[38;5;241m.\u001b[39mget(\u001b[38;5;124m'\u001b[39m\u001b[38;5;124mguid\u001b[39m\u001b[38;5;124m'\u001b[39m)\n",
      "File \u001b[1;32mc:\\Users\\leysh\\AppData\\Local\\Programs\\Python\\Python310\\lib\\json\\__init__.py:293\u001b[0m, in \u001b[0;36mload\u001b[1;34m(fp, cls, object_hook, parse_float, parse_int, parse_constant, object_pairs_hook, **kw)\u001b[0m\n\u001b[0;32m    274\u001b[0m \u001b[38;5;28;01mdef\u001b[39;00m \u001b[38;5;21mload\u001b[39m(fp, \u001b[38;5;241m*\u001b[39m, \u001b[38;5;28mcls\u001b[39m\u001b[38;5;241m=\u001b[39m\u001b[38;5;28;01mNone\u001b[39;00m, object_hook\u001b[38;5;241m=\u001b[39m\u001b[38;5;28;01mNone\u001b[39;00m, parse_float\u001b[38;5;241m=\u001b[39m\u001b[38;5;28;01mNone\u001b[39;00m,\n\u001b[0;32m    275\u001b[0m         parse_int\u001b[38;5;241m=\u001b[39m\u001b[38;5;28;01mNone\u001b[39;00m, parse_constant\u001b[38;5;241m=\u001b[39m\u001b[38;5;28;01mNone\u001b[39;00m, object_pairs_hook\u001b[38;5;241m=\u001b[39m\u001b[38;5;28;01mNone\u001b[39;00m, \u001b[38;5;241m*\u001b[39m\u001b[38;5;241m*\u001b[39mkw):\n\u001b[0;32m    276\u001b[0m     \u001b[38;5;124;03m\"\"\"Deserialize ``fp`` (a ``.read()``-supporting file-like object containing\u001b[39;00m\n\u001b[0;32m    277\u001b[0m \u001b[38;5;124;03m    a JSON document) to a Python object.\u001b[39;00m\n\u001b[0;32m    278\u001b[0m \n\u001b[1;32m   (...)\u001b[0m\n\u001b[0;32m    291\u001b[0m \u001b[38;5;124;03m    kwarg; otherwise ``JSONDecoder`` is used.\u001b[39;00m\n\u001b[0;32m    292\u001b[0m \u001b[38;5;124;03m    \"\"\"\u001b[39;00m\n\u001b[1;32m--> 293\u001b[0m     \u001b[38;5;28;01mreturn\u001b[39;00m loads(\u001b[43mfp\u001b[49m\u001b[38;5;241;43m.\u001b[39;49m\u001b[43mread\u001b[49m\u001b[43m(\u001b[49m\u001b[43m)\u001b[49m,\n\u001b[0;32m    294\u001b[0m         \u001b[38;5;28mcls\u001b[39m\u001b[38;5;241m=\u001b[39m\u001b[38;5;28mcls\u001b[39m, object_hook\u001b[38;5;241m=\u001b[39mobject_hook,\n\u001b[0;32m    295\u001b[0m         parse_float\u001b[38;5;241m=\u001b[39mparse_float, parse_int\u001b[38;5;241m=\u001b[39mparse_int,\n\u001b[0;32m    296\u001b[0m         parse_constant\u001b[38;5;241m=\u001b[39mparse_constant, object_pairs_hook\u001b[38;5;241m=\u001b[39mobject_pairs_hook, \u001b[38;5;241m*\u001b[39m\u001b[38;5;241m*\u001b[39mkw)\n",
      "File \u001b[1;32mc:\\Users\\leysh\\AppData\\Local\\Programs\\Python\\Python310\\lib\\encodings\\cp1252.py:23\u001b[0m, in \u001b[0;36mIncrementalDecoder.decode\u001b[1;34m(self, input, final)\u001b[0m\n\u001b[0;32m     22\u001b[0m \u001b[38;5;28;01mdef\u001b[39;00m \u001b[38;5;21mdecode\u001b[39m(\u001b[38;5;28mself\u001b[39m, \u001b[38;5;28minput\u001b[39m, final\u001b[38;5;241m=\u001b[39m\u001b[38;5;28;01mFalse\u001b[39;00m):\n\u001b[1;32m---> 23\u001b[0m     \u001b[38;5;28;01mreturn\u001b[39;00m \u001b[43mcodecs\u001b[49m\u001b[38;5;241;43m.\u001b[39;49m\u001b[43mcharmap_decode\u001b[49m\u001b[43m(\u001b[49m\u001b[38;5;28;43minput\u001b[39;49m\u001b[43m,\u001b[49m\u001b[38;5;28;43mself\u001b[39;49m\u001b[38;5;241;43m.\u001b[39;49m\u001b[43merrors\u001b[49m\u001b[43m,\u001b[49m\u001b[43mdecoding_table\u001b[49m\u001b[43m)\u001b[49m[\u001b[38;5;241m0\u001b[39m]\n",
      "\u001b[1;31mUnicodeDecodeError\u001b[0m: 'charmap' codec can't decode byte 0x8f in position 55: character maps to <undefined>"
     ]
    }
   ],
   "source": [
    "import concurrent.futures\n",
    "\n",
    "items = {}\n",
    "for category in categories:\n",
    "    items[category] = []\n",
    "    paths = get_json_files(os.path.join(FOLDER_DATABASE, category))\n",
    "    for path in paths:\n",
    "        item = TorrentItem.from_json(path)\n",
    "        \n",
    "        #item._local_image = change_extension(path, get_extension(item.ref_image))\n",
    "        #items[category].append(item)\n",
    "    #items[category].sort(key=lambda x: str(x.update_date).lower(), reverse=True)"
   ]
  },
  {
   "cell_type": "code",
   "execution_count": 7,
   "metadata": {},
   "outputs": [
    {
     "data": {
      "text/plain": [
       "'\\n\\nCоздан:\\xa04 января 2008 в\\xa017:31\\n\\n'"
      ]
     },
     "execution_count": 7,
     "metadata": {},
     "output_type": "execute_result"
    }
   ],
   "source": [
    "items['anime'][0].update_date"
   ]
  },
  {
   "cell_type": "code",
   "execution_count": 12,
   "metadata": {},
   "outputs": [
    {
     "data": {
      "text/plain": [
       "2"
      ]
     },
     "execution_count": 12,
     "metadata": {},
     "output_type": "execute_result"
    }
   ],
   "source": [
    "len(items)"
   ]
  },
  {
   "cell_type": "code",
   "execution_count": 8,
   "metadata": {},
   "outputs": [],
   "source": [
    "items = {}\n",
    "for category in categories:\n",
    "    items[category] = []\n",
    "    paths = get_json_files(os.path.join(FOLDER_DATABASE, category))\n",
    "    for path in paths:\n",
    "        item = TorrentItem.from_json(path)\n",
    "        item._local_image = change_extension(path, get_extension(item.ref_image))\n",
    "        items[category].append(item)\n",
    "    items[category].sort(key=lambda x: x.update_date, reverse=True)"
   ]
  },
  {
   "cell_type": "code",
   "execution_count": 3,
   "metadata": {},
   "outputs": [],
   "source": [
    "all_files = get_json_files(FOLDER_DATABASE)"
   ]
  },
  {
   "cell_type": "code",
   "execution_count": 4,
   "metadata": {},
   "outputs": [],
   "source": [
    "files = all_files[0:50]"
   ]
  },
  {
   "cell_type": "code",
   "execution_count": 5,
   "metadata": {},
   "outputs": [],
   "source": [
    "imagePaths = []\n",
    "for path in files:\n",
    "    item = TorrentItem.from_json(path)\n",
    "    imagePaths.append([change_extension(path, get_extension(item.ref_image)), item.guid])\n",
    "    items.append(item)"
   ]
  },
  {
   "cell_type": "code",
   "execution_count": 6,
   "metadata": {},
   "outputs": [],
   "source": [
    "dpg.create_context()\n",
    "\n",
    "dpg.create_viewport(title='AnimeLayersCollection', width=1200, height=1200)\n",
    "dpg.setup_dearpygui()"
   ]
  },
  {
   "cell_type": "code",
   "execution_count": 7,
   "metadata": {},
   "outputs": [],
   "source": [
    "with dpg.font_registry():\n",
    "    with dpg.font(f'C:\\\\Windows\\\\Fonts\\\\calibri.ttf', 14, default_font=True, id=\"Default font\"):\n",
    "        dpg.add_font_range_hint(dpg.mvFontRangeHint_Cyrillic)\n",
    "dpg.bind_font(\"Default font\")"
   ]
  },
  {
   "cell_type": "code",
   "execution_count": 8,
   "metadata": {},
   "outputs": [],
   "source": [
    "loadedImages = []\n",
    "imageScale = 1\n",
    "for imagePath, guid in imagePaths:\n",
    "    width, height, channels, data = dpg.load_image(imagePath)\n",
    "    imageScale = height / width\n",
    "    with dpg.texture_registry(show=False):\n",
    "        dpg.add_static_texture(width=width, height=height, default_value=data, tag=guid)\n",
    "\n",
    "w = 80\n",
    "h = w * imageScale"
   ]
  },
  {
   "cell_type": "code",
   "execution_count": 9,
   "metadata": {},
   "outputs": [],
   "source": [
    "def listSearch_callback(sender, app_data, user_data):\n",
    "    print(f\"sender is: {sender}\")\n",
    "    print(f\"app_data is: {app_data}\")\n",
    "    print(f\"user_data is: {user_data}\")\n",
    "    dpg.delete_item(\"table_items\", dpg.get_item_children(\"table_items\"))"
   ]
  },
  {
   "cell_type": "code",
   "execution_count": 10,
   "metadata": {},
   "outputs": [],
   "source": [
    "def checkbox_callback(sender, app_data, user_data):\n",
    "    print(f\"sender is: {sender}\")\n",
    "    print(f\"app_data is: {app_data}\")\n",
    "    print(f\"user_data is: {user_data}\")"
   ]
  },
  {
   "cell_type": "code",
   "execution_count": 11,
   "metadata": {},
   "outputs": [],
   "source": [
    "selected_item = None"
   ]
  },
  {
   "cell_type": "code",
   "execution_count": 12,
   "metadata": {},
   "outputs": [],
   "source": [
    "def select_callback(sender, app_data, user_data):\n",
    "    global selected_item\n",
    "    print(f\"sender is: {sender}\")\n",
    "    print(f\"app_data is: {app_data}\")\n",
    "    print(f\"user_data is: {user_data}\")\n",
    "\n",
    "    if selected_item is not None and selected_item != sender:\n",
    "        dpg.configure_item(selected_item, default_value=False)\n",
    "\n",
    "    #dpg.configure_item(sender, selected=False)\n",
    "    selected_item = sender"
   ]
  },
  {
   "cell_type": "code",
   "execution_count": 13,
   "metadata": {},
   "outputs": [],
   "source": [
    "def on_main_window_resize(sender, data):\n",
    "    window_height = dpg.get_viewport_height() * 0.96\n",
    "    dpg.set_item_height(item=\"pane_filters\", height=window_height)  # пример изменения ширины окна\n",
    "    dpg.set_item_height(item=\"pane_list\", height=window_height)  # пример изменения ширины окна"
   ]
  },
  {
   "cell_type": "code",
   "execution_count": 14,
   "metadata": {},
   "outputs": [],
   "source": [
    "with dpg.window(tag=\"pane_filters\", label=\"Filters\", width=200, height=1100, no_collapse=True, no_move=True, no_close=True, pos=[4, 4],no_resize=True):\n",
    "    with dpg.group(horizontal=False):\n",
    "        dpg.add_radio_button(label=\"Test\",items=[\"Anime\", \"Hentai\", \"Music\", \"Manga\", \"Dorama\"], default_value='Anime', callback=checkbox_callback)\n",
    "\n",
    "        dpg.add_separator(label=\"SectionToGenreSeparator\")\n",
    "\n",
    "        with dpg.table(label=\"GenreCategories\", header_row=True):\n",
    "                dpg.add_table_column(label=\"\",width=20,width_fixed=True)\n",
    "                dpg.add_table_column(label=\"Category\",width=w-20,width_fixed=True)\n",
    "                with dpg.table_row():\n",
    "                    dpg.add_checkbox(callback=checkbox_callback, user_data=\"Data1\")\n",
    "                    dpg.add_text(\"1\")"
   ]
  },
  {
   "cell_type": "code",
   "execution_count": 15,
   "metadata": {},
   "outputs": [],
   "source": [
    "with dpg.window(tag=\"pane_list\", label=\"List\", height=1100, pos=[210, 4], no_collapse=True, no_move=True, no_close=True,no_resize=True):\n",
    "    with dpg.group(horizontal=False):\n",
    "        dpg.add_input_text(callback=listSearch_callback)\n",
    "\n",
    "        with dpg.table(label=\"table_items\", header_row=True):\n",
    "\n",
    "            # use add_table_column to add columns to the table,\n",
    "            # table columns use child slot 0\n",
    "            dpg.add_table_column(label=\"Poster\",width=w,width_fixed=True)\n",
    "            dpg.add_table_column(label=\"Name\")\n",
    "            dpg.add_table_column(label=\"\", width=3)\n",
    "\n",
    "            # add_table_next_column will jump to the next row\n",
    "            # once it reaches the end of the columns\n",
    "            # table next column use slot 1\n",
    "            for item in items:\n",
    "                with dpg.table_row():\n",
    "                    imgItem = f\"image:{item.guid}\"\n",
    "                    dpg.add_image(item.guid, width=w, height=h)\n",
    "                    textItem = f\"text:{item.guid}\"\n",
    "                    dpg.add_text(str(item.name), wrap=150, tag=textItem)\n",
    "                    dpg.add_selectable(callback=select_callback, \n",
    "                                       span_columns=True, \n",
    "                                       height=max(h, dpg.get_item_height(textItem)))\n",
    "                    \n",
    "        with dpg.group(horizontal=True):\n",
    "            dpg.add_button(label=\"1\")\n",
    "            dpg.add_button(label=\"2\")\n",
    "            dpg.add_button(label=\"3\")"
   ]
  },
  {
   "cell_type": "code",
   "execution_count": 16,
   "metadata": {},
   "outputs": [],
   "source": [
    "dpg.set_viewport_resize_callback(on_main_window_resize)"
   ]
  },
  {
   "cell_type": "code",
   "execution_count": 17,
   "metadata": {},
   "outputs": [
    {
     "name": "stdout",
     "output_type": "stream",
     "text": [
      "sender is: 144\n",
      "app_data is: True\n",
      "user_data is: None\n",
      "sender is: 148\n",
      "app_data is: True\n",
      "user_data is: None\n",
      "sender is: 152\n",
      "app_data is: True\n",
      "user_data is: None\n",
      "sender is: 160\n",
      "app_data is: True\n",
      "user_data is: None\n",
      "sender is: 164\n",
      "app_data is: True\n",
      "user_data is: None\n",
      "sender is: 168\n",
      "app_data is: True\n",
      "user_data is: None\n",
      "sender is: 152\n",
      "app_data is: True\n",
      "user_data is: None\n",
      "sender is: 144\n",
      "app_data is: True\n",
      "user_data is: None\n",
      "sender is: 160\n",
      "app_data is: True\n",
      "user_data is: None\n"
     ]
    }
   ],
   "source": [
    "dpg.show_viewport()\n",
    "dpg.start_dearpygui()\n",
    "dpg.destroy_context()"
   ]
  },
  {
   "cell_type": "markdown",
   "metadata": {},
   "source": [
    "import dearpygui.dearpygui as dpg\n",
    "\n",
    "dpg.create_context()\n",
    "\n",
    "with dpg.window(label=\"Main Window\"):\n",
    "    with dpg.group(horizontal=True):\n",
    "        dpg.add_button(label=\"Add Category\")\n",
    "    \n",
    "    dpg.add_listbox(label=\"Categories\", width=200)\n",
    "\n",
    "    with dpg.table(header_row=True, row_background=True, height=400,\n",
    "                   borders_innerH=True, borders_innerV=True):\n",
    "        dpg.add_table_column(label=\"Image\")\n",
    "        dpg.add_table_column(label=\"Description\")\n",
    "    \n",
    "    \n",
    "dpg.create_viewport(title='Custom Title', width=800, height=600)\n",
    "dpg.setup_dearpygui()\n",
    "dpg.show_viewport()\n",
    "dpg.start_dearpygui()\n",
    "dpg.destroy_context()"
   ]
  },
  {
   "cell_type": "markdown",
   "metadata": {},
   "source": [
    "import dearpygui.dearpygui as dpg\n",
    "\n",
    "dpg.create_context()\n",
    "\n",
    "with dpg.theme() as table_theme:\n",
    "    with dpg.theme_component(dpg.mvTable):\n",
    "        # dpg.add_theme_color(dpg.mvThemeCol_HeaderHovered, (255, 0, 0, 100), category=dpg.mvThemeCat_Core)\n",
    "        dpg.add_theme_color(dpg.mvThemeCol_HeaderActive, (0, 0, 0, 0), category=dpg.mvThemeCat_Core)\n",
    "        dpg.add_theme_color(dpg.mvThemeCol_Header, (0, 0, 0, 0), category=dpg.mvThemeCat_Core)\n",
    "\n",
    "def clb_selectable(sender, app_data, user_data):\n",
    "    print(f\"Row {user_data}\")\n",
    "\n",
    "with dpg.window(tag=\"Selectable Tables\"):\n",
    "    with dpg.table(tag=\"SelectRows\", header_row=True) as selectablerows:\n",
    "        dpg.add_table_column(label=\"First\")\n",
    "        dpg.add_table_column(label=\"Second\")\n",
    "        dpg.add_table_column(label=\"Third\")\n",
    "\n",
    "        for i in range(15):\n",
    "            with dpg.table_row():\n",
    "                for j in range(3):\n",
    "                    dpg.add_selectable(label=f\"Row{i} Column{j}\", span_columns=True, callback=clb_selectable, user_data=i)\n",
    "    dpg.bind_item_theme(selectablerows, table_theme)\n",
    "\n",
    "    with dpg.table(tag=\"SelectCells\", header_row=True) as selectablecells:\n",
    "        dpg.add_table_column(label=\"First\")\n",
    "        dpg.add_table_column(label=\"Second\")\n",
    "        dpg.add_table_column(label=\"Third\")\n",
    "\n",
    "        for i in range(15):\n",
    "            with dpg.table_row():\n",
    "                for j in range(3):\n",
    "                    dpg.add_selectable(label=f\"Row{i} Column{j}\", callback=clb_selectable, user_data=(i,j))\n",
    "    dpg.bind_item_theme(selectablecells, table_theme)\n",
    "\n",
    "dpg.create_viewport(width=800, height=600)\n",
    "dpg.setup_dearpygui()\n",
    "dpg.show_viewport()\n",
    "dpg.start_dearpygui()\n",
    "dpg.destroy_context()"
   ]
  }
 ],
 "metadata": {
  "kernelspec": {
   "display_name": "Python 3",
   "language": "python",
   "name": "python3"
  },
  "language_info": {
   "codemirror_mode": {
    "name": "ipython",
    "version": 3
   },
   "file_extension": ".py",
   "mimetype": "text/x-python",
   "name": "python",
   "nbconvert_exporter": "python",
   "pygments_lexer": "ipython3",
   "version": "3.10.6"
  }
 },
 "nbformat": 4,
 "nbformat_minor": 2
}

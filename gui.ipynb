{
 "cells": [
  {
   "cell_type": "markdown",
   "metadata": {},
   "source": [
    "## Imports"
   ]
  },
  {
   "cell_type": "code",
   "execution_count": 1,
   "metadata": {},
   "outputs": [],
   "source": [
    "import datetime\n",
    "from src.utils import *\n",
    "from src.database_torrentitem import *\n",
    "import dearpygui.dearpygui as dpg\n",
    "import json"
   ]
  },
  {
   "cell_type": "markdown",
   "metadata": {},
   "source": [
    "## Variables"
   ]
  },
  {
   "cell_type": "code",
   "execution_count": 2,
   "metadata": {},
   "outputs": [],
   "source": [
    "# Columns widths \n",
    "WIDTH_COLUMN_LEFT = 200\n",
    "WIDTH_COLUMN_CENTER = 400\n",
    "#WIDTH_COLUMN_CENTER = rest of window\n",
    "\n",
    "# main panes tags\n",
    "PANE_PRESET_TAG = \"pane_preset\"\n",
    "PANE_ITEMS_TAG = \"pane_list\"\n",
    "PANE_PREVIEW_TAG = \"pane_preview\"\n",
    "PANE_FILTERS_TAG = \"pane_filters\"\n",
    "PANE_DATERANGE_TAG = \"pane_date\"\n",
    "\n",
    "PANE_DATERANGE_HEIGHT = 205\n",
    "PANE_PRESET_HEIGHT = 100\n",
    "\n",
    "# main tables tags\n",
    "TABLE_FILTERS_TAG = \"table_filters\"\n",
    "TABLE_ITEMS_TAG = \"table_items\"\n",
    "\n",
    "# Date Range Years\n",
    "DATERANGE_YEAR_FIRST = 1900\n",
    "DATERANGE_YEAR_LAST = datetime.datetime.now().year\n",
    "\n",
    "# Date Range tags\n",
    "DATERANGE_SLIDER_START_MONTH_TAG = \"datarange_slider_start_month\"\n",
    "DATERANGE_SLIDER_START_YEAR_TAG = \"datarange_slider_start_year\"\n",
    "DATERANGE_SLIDER_END_MONTH_TAG = \"datarange_slider_end_month\"\n",
    "DATERANGE_SLIDER_END_YEAR_TAG = \"datarange_slider_end_year\"\n",
    "\n",
    "PRESET_SLIDER_IMAGE_HEIGHT_TAG = \"preset_slider_image_height\"\n",
    "\n",
    "TEXTURE_TAG=\"textures\"\n",
    "\n",
    "# Application General Characteristics\n",
    "APPLICATION_TITLE = 'AnimeLayers Collection'\n",
    "APPLICATION_PANE_BORDER = 4\n",
    "\n",
    "# Application Font\n",
    "APPLICATION_FONT_NAME = f'C:\\\\Windows\\\\Fonts\\\\calibri.ttf'\n",
    "APPLICATION_FONT_SIZE = 14"
   ]
  },
  {
   "cell_type": "markdown",
   "metadata": {},
   "source": [
    "### User variables"
   ]
  },
  {
   "cell_type": "code",
   "execution_count": 3,
   "metadata": {},
   "outputs": [],
   "source": [
    "class Parameters:\n",
    "    def __init__(self):\n",
    "        self.DATERANGE_SLIDER_START_MONTH_VALUE = 1\n",
    "        self.DATERANGE_SLIDER_START_YEAR_VALUE = DATERANGE_YEAR_FIRST\n",
    "        self.DATERANGE_SLIDER_END_MONTH_VALUE = 12\n",
    "        self.DATERANGE_SLIDER_END_YEAR_VALUE = DATERANGE_YEAR_LAST\n",
    "\n",
    "        self.PRESET_SLIDER_IMAGE_HEIGHT_VALUE = 80\n",
    "\n",
    "        self.APPLICATION_WIDTH = 1200\n",
    "        self.APPLICATION_HEIGHT = 1200\n",
    "    \n",
    "    def load(self, path):\n",
    "        self.__dict__ = json.load(open(path))\n",
    "    \n",
    "    def save(self, path):\n",
    "        json.dump(self.__dict__, open(path, 'w'))"
   ]
  },
  {
   "cell_type": "code",
   "execution_count": 4,
   "metadata": {},
   "outputs": [],
   "source": [
    "if(not os.path.exists('gui_config.json')):\n",
    "    Parameters().save('gui_config.json')\n",
    "\n",
    "params = Parameters()\n",
    "params.load('gui_config.json')"
   ]
  },
  {
   "cell_type": "markdown",
   "metadata": {},
   "source": [
    "### State variables"
   ]
  },
  {
   "cell_type": "code",
   "execution_count": 5,
   "metadata": {},
   "outputs": [],
   "source": [
    "selected_item = None "
   ]
  },
  {
   "cell_type": "markdown",
   "metadata": {},
   "source": [
    "## Init Context"
   ]
  },
  {
   "cell_type": "code",
   "execution_count": 6,
   "metadata": {},
   "outputs": [
    {
     "data": {
      "text/plain": [
       "<contextlib._GeneratorContextManager at 0x19313aa0c40>"
      ]
     },
     "execution_count": 6,
     "metadata": {},
     "output_type": "execute_result"
    }
   ],
   "source": [
    "dpg.create_context()\n",
    "\n",
    "dpg.create_viewport(title=APPLICATION_TITLE, width=params.APPLICATION_WIDTH, height=params.APPLICATION_HEIGHT, min_height=500, min_width=900)\n",
    "dpg.setup_dearpygui()\n",
    "dpg.texture_registry(tag=TEXTURE_TAG, show=False)"
   ]
  },
  {
   "cell_type": "markdown",
   "metadata": {},
   "source": [
    "### Set Font"
   ]
  },
  {
   "cell_type": "code",
   "execution_count": 7,
   "metadata": {},
   "outputs": [],
   "source": [
    "with dpg.font_registry():\n",
    "    with dpg.font(APPLICATION_FONT_NAME, APPLICATION_FONT_SIZE, default_font=True, id=\"Default font\"):\n",
    "        dpg.add_font_range_hint(dpg.mvFontRangeHint_Cyrillic)\n",
    "dpg.bind_font(\"Default font\")"
   ]
  },
  {
   "cell_type": "markdown",
   "metadata": {},
   "source": [
    "## Utility Funtions"
   ]
  },
  {
   "cell_type": "code",
   "execution_count": 8,
   "metadata": {},
   "outputs": [],
   "source": [
    "def refresh_item_list():\n",
    "    return"
   ]
  },
  {
   "cell_type": "code",
   "execution_count": 9,
   "metadata": {},
   "outputs": [],
   "source": [
    "def load_image_to_texture(imagePath, guid):\n",
    "    width, height, _, data = dpg.load_image(imagePath)\n",
    "    with dpg.get_item_by_tag(TEXTURE_TAG):\n",
    "        dpg.add_static_texture(width=width, height=height, default_value=data, tag=guid)\n",
    "    return (width, height, height / width)"
   ]
  },
  {
   "cell_type": "code",
   "execution_count": 10,
   "metadata": {},
   "outputs": [],
   "source": [
    "imagePaths = []"
   ]
  },
  {
   "cell_type": "code",
   "execution_count": null,
   "metadata": {},
   "outputs": [],
   "source": []
  },
  {
   "cell_type": "code",
   "execution_count": 11,
   "metadata": {},
   "outputs": [],
   "source": [
    "loadedImages = []\n",
    "imageRatio = 1\n",
    "for imagePath, guid in imagePaths:\n",
    "    width, height, imageRatio = load_image_to_texture(imagePath, guid)\n",
    "\n",
    "w = 80\n",
    "h = w * imageRatio"
   ]
  },
  {
   "cell_type": "code",
   "execution_count": 12,
   "metadata": {},
   "outputs": [],
   "source": [
    "def fill_table_from_array(items):\n",
    "    table_items_context = dpg.get_item_by_tag(TABLE_ITEMS_TAG)\n",
    "    if table_items_context:\n",
    "        with table_items_context:\n",
    "            for item in items:\n",
    "                with dpg.table_row():\n",
    "                    dpg.add_image(item[1], width=w, height=h)\n",
    "                    textItem = f\"text:{item[1]}\"\n",
    "                    dpg.add_text(item[0], wrap=150, tag=textItem)\n",
    "                    dpg.add_selectable(callback=select_callback, \n",
    "                                       span_columns=True, \n",
    "                                       height=max(h, dpg.get_item_height(textItem)))\n",
    "    else:\n",
    "        print(\"Table with tag 'table_items' not found.\")"
   ]
  },
  {
   "cell_type": "code",
   "execution_count": 13,
   "metadata": {},
   "outputs": [],
   "source": [
    "def fill_table_filters_from_array(items):\n",
    "    table_items_context = dpg.get_item_by_tag(TABLE_FILTERS_TAG)\n",
    "    if not table_items_context:\n",
    "        print(\"Table with tag 'table_items' not found.\")\n",
    "        return \n",
    "    with table_items_context:\n",
    "        for item in items:\n",
    "            with dpg.table_row():\n",
    "                dpg.add_checkbox(callback=filter_checkbox_callback, user_data=\"Data1\")\n",
    "                dpg.add_text(\"1\")"
   ]
  },
  {
   "cell_type": "markdown",
   "metadata": {},
   "source": [
    "## Local Callback Implementation"
   ]
  },
  {
   "cell_type": "code",
   "execution_count": 14,
   "metadata": {},
   "outputs": [],
   "source": [
    "def listSearch_callback(sender, app_data, user_data):\n",
    "    print(f\"sender is: {sender}\")\n",
    "    print(f\"app_data is: {app_data}\")\n",
    "    print(f\"user_data is: {user_data}\")\n",
    "    dpg.delete_item(TABLE_ITEMS_TAG, dpg.get_item_children(TABLE_ITEMS_TAG))"
   ]
  },
  {
   "cell_type": "code",
   "execution_count": 15,
   "metadata": {},
   "outputs": [],
   "source": [
    "def filter_checkbox_callback(sender, app_data, user_data):\n",
    "    print(f\"sender is: {sender}\")\n",
    "    print(f\"app_data is: {app_data}\")\n",
    "    print(f\"user_data is: {user_data}\")"
   ]
  },
  {
   "cell_type": "code",
   "execution_count": 16,
   "metadata": {},
   "outputs": [],
   "source": [
    "def preset_checkbox_callback(sender, app_data, user_data):\n",
    "    print(f\"sender is: {sender}\")\n",
    "    print(f\"app_data is: {app_data}\")\n",
    "    print(f\"user_data is: {user_data}\")"
   ]
  },
  {
   "cell_type": "code",
   "execution_count": 17,
   "metadata": {},
   "outputs": [],
   "source": [
    "def select_callback(sender, app_data, user_data):\n",
    "    # deselect past item\n",
    "    global selected_item\n",
    "    if selected_item is not None and selected_item != sender:\n",
    "        dpg.configure_item(selected_item, default_value=False)\n",
    "    selected_item = sender\n",
    "\n",
    "    # update preview pane\n",
    "    "
   ]
  },
  {
   "cell_type": "code",
   "execution_count": 18,
   "metadata": {},
   "outputs": [],
   "source": [
    "def preset_button_newpreset_callback(sender, app_data, user_data):\n",
    "    return"
   ]
  },
  {
   "cell_type": "markdown",
   "metadata": {},
   "source": [
    "### Date Range Slider"
   ]
  },
  {
   "cell_type": "code",
   "execution_count": 19,
   "metadata": {},
   "outputs": [],
   "source": [
    "def slider_date_slider_range_correct_callback(sender, data):\n",
    "    # TODO: use max of start slider as min of end slider and vice versa\n",
    "    return"
   ]
  },
  {
   "cell_type": "code",
   "execution_count": 20,
   "metadata": {},
   "outputs": [],
   "source": [
    "def button_date_slider_apply_callback(sender, data):\n",
    "    params.DATERANGE_SLIDER_START_MONTH_VALUE = dpg.get_value(DATERANGE_SLIDER_START_MONTH_TAG)\n",
    "    params.DATERANGE_SLIDER_START_YEAR_VALUE = dpg.get_value(DATERANGE_SLIDER_START_YEAR_TAG)\n",
    "    params.DATERANGE_SLIDER_END_MONTH_VALUE = dpg.get_value(DATERANGE_SLIDER_END_MONTH_TAG)\n",
    "    params.DATERANGE_SLIDER_END_YEAR_VALUE = dpg.get_value(DATERANGE_SLIDER_END_YEAR_TAG)\n",
    "    refresh_item_list()\n",
    "    return"
   ]
  },
  {
   "cell_type": "code",
   "execution_count": 21,
   "metadata": {},
   "outputs": [],
   "source": [
    "def button_date_slider_reset_callback(sender, data):\n",
    "    dpg.set_value(DATERANGE_SLIDER_START_MONTH_TAG, 1)\n",
    "    dpg.set_value(DATERANGE_SLIDER_START_YEAR_TAG, DATERANGE_YEAR_FIRST)\n",
    "    dpg.set_value(DATERANGE_SLIDER_END_MONTH_TAG, 12)\n",
    "    dpg.set_value(DATERANGE_SLIDER_END_YEAR_TAG, DATERANGE_YEAR_LAST)\n",
    "    button_date_slider_apply_callback(sender, data)\n",
    "    return"
   ]
  },
  {
   "cell_type": "markdown",
   "metadata": {},
   "source": [
    "### Preset Slider Image Height"
   ]
  },
  {
   "cell_type": "code",
   "execution_count": 22,
   "metadata": {},
   "outputs": [],
   "source": [
    "def preset_slider_image_height_callback(sender, data):\n",
    "    global PRESET_SLIDER_IMAGE_HEIGHT_VALUE\n",
    "    PRESET_SLIDER_IMAGE_HEIGHT_VALUE = dpg.get_value(PRESET_SLIDER_IMAGE_HEIGHT_TAG)\n",
    "    refresh_item_list()"
   ]
  },
  {
   "cell_type": "markdown",
   "metadata": {},
   "source": [
    "## Global Callback Implementation"
   ]
  },
  {
   "cell_type": "code",
   "execution_count": 23,
   "metadata": {},
   "outputs": [],
   "source": [
    "def on_main_window_resize():\n",
    "    window_height = dpg.get_viewport_height()\n",
    "    window_width = dpg.get_viewport_width()\n",
    "\n",
    "    # pane_data\n",
    "    dpg.set_item_pos(PANE_DATERANGE_TAG, [APPLICATION_PANE_BORDER, APPLICATION_PANE_BORDER])\n",
    "    dpg.set_item_height(PANE_DATERANGE_TAG, PANE_DATERANGE_HEIGHT)\n",
    "    dpg.set_item_width(PANE_DATERANGE_TAG, WIDTH_COLUMN_LEFT)\n",
    "    \n",
    "    #  pane_filters\n",
    "    filters_start_pos = APPLICATION_PANE_BORDER + PANE_DATERANGE_HEIGHT + APPLICATION_PANE_BORDER\n",
    "    dpg.set_item_pos(PANE_FILTERS_TAG, [APPLICATION_PANE_BORDER, filters_start_pos])\n",
    "    dpg.set_item_height(PANE_FILTERS_TAG, window_height - PANE_PRESET_HEIGHT - filters_start_pos)\n",
    "    dpg.set_item_width(PANE_FILTERS_TAG, WIDTH_COLUMN_LEFT)\n",
    "\n",
    "    #  pane_list\n",
    "    dpg.set_item_pos(PANE_ITEMS_TAG, [APPLICATION_PANE_BORDER + WIDTH_COLUMN_LEFT + APPLICATION_PANE_BORDER, APPLICATION_PANE_BORDER])\n",
    "    dpg.set_item_height(PANE_ITEMS_TAG, window_height - PANE_PRESET_HEIGHT - APPLICATION_PANE_BORDER)\n",
    "    dpg.set_item_width(PANE_ITEMS_TAG, WIDTH_COLUMN_CENTER)\n",
    "\n",
    "    #  pane_preset\n",
    "    dpg.set_item_pos(PANE_PRESET_TAG, [APPLICATION_PANE_BORDER, APPLICATION_PANE_BORDER + window_height - PANE_PRESET_HEIGHT])\n",
    "    dpg.set_item_height(PANE_PRESET_TAG, PANE_PRESET_HEIGHT)\n",
    "    dpg.set_item_width(PANE_PRESET_TAG, WIDTH_COLUMN_LEFT + APPLICATION_PANE_BORDER + WIDTH_COLUMN_CENTER)\n",
    "\n",
    "    #  pane_preset\n",
    "    dpg.set_item_pos(PANE_PREVIEW_TAG, [APPLICATION_PANE_BORDER + WIDTH_COLUMN_LEFT + APPLICATION_PANE_BORDER + WIDTH_COLUMN_CENTER + APPLICATION_PANE_BORDER, APPLICATION_PANE_BORDER])\n",
    "    dpg.set_item_height(PANE_PREVIEW_TAG, window_height)\n",
    "    dpg.set_item_width(PANE_PREVIEW_TAG, window_width - (APPLICATION_PANE_BORDER + WIDTH_COLUMN_LEFT + APPLICATION_PANE_BORDER + APPLICATION_PANE_BORDER + WIDTH_COLUMN_CENTER + APPLICATION_PANE_BORDER + APPLICATION_PANE_BORDER + 12))"
   ]
  },
  {
   "cell_type": "code",
   "execution_count": 24,
   "metadata": {},
   "outputs": [],
   "source": [
    "def on_exit_callback():\n",
    "    params.save('gui_config.json')"
   ]
  },
  {
   "cell_type": "markdown",
   "metadata": {},
   "source": [
    "## Init windows"
   ]
  },
  {
   "cell_type": "code",
   "execution_count": 25,
   "metadata": {},
   "outputs": [],
   "source": [
    "with dpg.window(tag=PANE_DATERANGE_TAG, label=\"Date Range\", no_collapse=True, no_move=True, no_close=True,no_resize=True, no_scrollbar=True):\n",
    "    with dpg.group(horizontal=False):\n",
    "        dpg.add_text(\"\\tStart Date:\")\n",
    "        with dpg.group(horizontal=True):\n",
    "            dpg.add_text(\"Month:\")\n",
    "            dpg.add_slider_int(tag=DATERANGE_SLIDER_START_MONTH_TAG, label=\"\", min_value=1, max_value=12, default_value=params.DATERANGE_SLIDER_START_MONTH_VALUE)\n",
    "        with dpg.group(horizontal=True):\n",
    "            dpg.add_text(\"Year:    \")\n",
    "            dpg.add_slider_int(tag=DATERANGE_SLIDER_START_YEAR_TAG, label=\"\", min_value=DATERANGE_YEAR_FIRST, max_value=DATERANGE_YEAR_LAST, default_value=params.DATERANGE_SLIDER_START_YEAR_VALUE, callback=slider_date_slider_range_correct_callback)\n",
    "    with dpg.group(horizontal=False):\n",
    "        dpg.add_text(\"\\tEnd Date:\")\n",
    "        with dpg.group(horizontal=True):\n",
    "            dpg.add_text(\"Month:\")\n",
    "            dpg.add_slider_int(tag=DATERANGE_SLIDER_END_MONTH_TAG, label=\"\", min_value=1, max_value=12, default_value=params.DATERANGE_SLIDER_END_MONTH_VALUE)\n",
    "        with dpg.group(horizontal=True):\n",
    "            dpg.add_text(\"Year:    \")\n",
    "            dpg.add_slider_int(tag=DATERANGE_SLIDER_END_YEAR_TAG, label=\"\", min_value=DATERANGE_YEAR_FIRST, max_value=DATERANGE_YEAR_LAST, default_value=params.DATERANGE_SLIDER_END_YEAR_VALUE, callback=slider_date_slider_range_correct_callback)\n",
    "    dpg.add_separator()\n",
    "    with dpg.group(horizontal=True):\n",
    "        dpg.add_button(label=\"Reset\", callback=button_date_slider_reset_callback, height=25, width=42)\n",
    "        dpg.add_button(label=\"Apply\", callback=button_date_slider_apply_callback, height=25, width=WIDTH_COLUMN_LEFT-70)"
   ]
  },
  {
   "cell_type": "code",
   "execution_count": 26,
   "metadata": {},
   "outputs": [],
   "source": [
    "with dpg.window(tag=PANE_FILTERS_TAG, label=\"Filters\", width=WIDTH_COLUMN_LEFT, height=1100, no_collapse=True, no_move=True, no_close=True, pos=[4, 208],no_resize=True):\n",
    "    with dpg.group(horizontal=False):\n",
    "        with dpg.table(tag=TABLE_FILTERS_TAG, label=\"GenreCategories\", header_row=False):\n",
    "                dpg.add_table_column(label=\"\",width=20,width_fixed=True)\n",
    "                dpg.add_table_column(label=\"Category\",width=w-20,width_fixed=True)"
   ]
  },
  {
   "cell_type": "code",
   "execution_count": 27,
   "metadata": {},
   "outputs": [],
   "source": [
    "with dpg.window(tag=PANE_ITEMS_TAG, label=\"List\", no_collapse=True, no_move=True, no_close=True,no_resize=True):\n",
    "    with dpg.group(horizontal=False):\n",
    "        dpg.add_input_text(callback=listSearch_callback)\n",
    "\n",
    "        dpg.table(tag=TABLE_ITEMS_TAG, label=TABLE_ITEMS_TAG, header_row=True, width=600)          \n",
    "                    \n",
    "        #with dpg.group(horizontal=True):\n",
    "        #    dpg.add_button(label=\"1\")\n",
    "        #    dpg.add_button(label=\"2\")\n",
    "        #    dpg.add_button(label=\"3\")"
   ]
  },
  {
   "cell_type": "code",
   "execution_count": 28,
   "metadata": {},
   "outputs": [],
   "source": [
    "with dpg.window(tag=PANE_PRESET_TAG, label=\"Preset\", no_collapse=True, no_move=True, no_close=True,no_resize=True):\n",
    "    with dpg.group(horizontal=True):\n",
    "        dpg.add_combo(tag=\"radio_preset\", width=200, label=\"\", items=[\"Anime\", \"Hentai\", \"Music\", \"Manga\", \"Dorama\"], default_value='Anime', callback=preset_checkbox_callback)\n",
    "        dpg.add_button(label=\"New Preset\", width=100, callback=preset_button_newpreset_callback)\n",
    "        dpg.add_slider_int(tag=PRESET_SLIDER_IMAGE_HEIGHT_TAG, label=\"Image Height\", min_value=0, max_value=300, default_value=params.PRESET_SLIDER_IMAGE_HEIGHT_VALUE, callback=preset_slider_image_height_callback)"
   ]
  },
  {
   "cell_type": "code",
   "execution_count": 29,
   "metadata": {},
   "outputs": [
    {
     "data": {
      "text/plain": [
       "<contextlib._GeneratorContextManager at 0x19313c31150>"
      ]
     },
     "execution_count": 29,
     "metadata": {},
     "output_type": "execute_result"
    }
   ],
   "source": [
    "dpg.window(tag=PANE_PREVIEW_TAG, label=\"Item Preview\", no_collapse=True, no_move=True, no_close=True,no_resize=True)"
   ]
  },
  {
   "cell_type": "markdown",
   "metadata": {},
   "source": [
    "## General Callback Bind"
   ]
  },
  {
   "cell_type": "code",
   "execution_count": 30,
   "metadata": {},
   "outputs": [],
   "source": [
    "dpg.set_viewport_resize_callback(on_main_window_resize)\n",
    "dpg.set_exit_callback(on_exit_callback)"
   ]
  },
  {
   "cell_type": "markdown",
   "metadata": {},
   "source": [
    "## Run Context"
   ]
  },
  {
   "cell_type": "code",
   "execution_count": 31,
   "metadata": {},
   "outputs": [
    {
     "ename": "SystemError",
     "evalue": "<built-in function configure_item> returned a result with an exception set",
     "output_type": "error",
     "traceback": [
      "\u001b[1;31m---------------------------------------------------------------------------\u001b[0m",
      "\u001b[1;31mException\u001b[0m                                 Traceback (most recent call last)",
      "\u001b[1;31mException\u001b[0m: \nError:     [1005]\nCommand:   configure_item\nItem:      0 \nLabel:     Not found\nItem Type: Unknown\nMessage:   Item not found: 0",
      "\nThe above exception was the direct cause of the following exception:\n",
      "\u001b[1;31mSystemError\u001b[0m                               Traceback (most recent call last)",
      "Input \u001b[1;32mIn [23]\u001b[0m, in \u001b[0;36mon_main_window_resize\u001b[1;34m()\u001b[0m\n\u001b[0;32m     24\u001b[0m dpg\u001b[38;5;241m.\u001b[39mset_item_width(PANE_PRESET_TAG, WIDTH_COLUMN_LEFT \u001b[38;5;241m+\u001b[39m APPLICATION_PANE_BORDER \u001b[38;5;241m+\u001b[39m WIDTH_COLUMN_CENTER)\n\u001b[0;32m     26\u001b[0m \u001b[38;5;66;03m#  pane_preset\u001b[39;00m\n\u001b[1;32m---> 27\u001b[0m \u001b[43mdpg\u001b[49m\u001b[38;5;241;43m.\u001b[39;49m\u001b[43mset_item_pos\u001b[49m\u001b[43m(\u001b[49m\u001b[43mPANE_PREVIEW_TAG\u001b[49m\u001b[43m,\u001b[49m\u001b[43m \u001b[49m\u001b[43m[\u001b[49m\u001b[43mAPPLICATION_PANE_BORDER\u001b[49m\u001b[43m \u001b[49m\u001b[38;5;241;43m+\u001b[39;49m\u001b[43m \u001b[49m\u001b[43mWIDTH_COLUMN_LEFT\u001b[49m\u001b[43m \u001b[49m\u001b[38;5;241;43m+\u001b[39;49m\u001b[43m \u001b[49m\u001b[43mAPPLICATION_PANE_BORDER\u001b[49m\u001b[43m \u001b[49m\u001b[38;5;241;43m+\u001b[39;49m\u001b[43m \u001b[49m\u001b[43mWIDTH_COLUMN_CENTER\u001b[49m\u001b[43m \u001b[49m\u001b[38;5;241;43m+\u001b[39;49m\u001b[43m \u001b[49m\u001b[43mAPPLICATION_PANE_BORDER\u001b[49m\u001b[43m,\u001b[49m\u001b[43m \u001b[49m\u001b[43mAPPLICATION_PANE_BORDER\u001b[49m\u001b[43m]\u001b[49m\u001b[43m)\u001b[49m\n\u001b[0;32m     28\u001b[0m dpg\u001b[38;5;241m.\u001b[39mset_item_height(PANE_PREVIEW_TAG, window_height)\n\u001b[0;32m     29\u001b[0m dpg\u001b[38;5;241m.\u001b[39mset_item_width(PANE_PREVIEW_TAG, window_width \u001b[38;5;241m-\u001b[39m (APPLICATION_PANE_BORDER \u001b[38;5;241m+\u001b[39m WIDTH_COLUMN_LEFT \u001b[38;5;241m+\u001b[39m APPLICATION_PANE_BORDER \u001b[38;5;241m+\u001b[39m APPLICATION_PANE_BORDER \u001b[38;5;241m+\u001b[39m WIDTH_COLUMN_CENTER \u001b[38;5;241m+\u001b[39m APPLICATION_PANE_BORDER \u001b[38;5;241m+\u001b[39m APPLICATION_PANE_BORDER \u001b[38;5;241m+\u001b[39m \u001b[38;5;241m12\u001b[39m))\n",
      "File \u001b[1;32mc:\\Users\\leysh\\AppData\\Local\\Programs\\Python\\Python310\\lib\\site-packages\\dearpygui\\dearpygui.py:363\u001b[0m, in \u001b[0;36mset_item_pos\u001b[1;34m(item, pos)\u001b[0m\n\u001b[0;32m    353\u001b[0m \u001b[38;5;28;01mdef\u001b[39;00m \u001b[38;5;21mset_item_pos\u001b[39m(item: Union[\u001b[38;5;28mint\u001b[39m, \u001b[38;5;28mstr\u001b[39m], pos: List[\u001b[38;5;28mfloat\u001b[39m]):\n\u001b[0;32m    354\u001b[0m     \u001b[38;5;124;03m\"\"\"Sets the item's position.\u001b[39;00m\n\u001b[0;32m    355\u001b[0m \n\u001b[0;32m    356\u001b[0m \u001b[38;5;124;03m    Args:\u001b[39;00m\n\u001b[1;32m   (...)\u001b[0m\n\u001b[0;32m    361\u001b[0m \u001b[38;5;124;03m        None\u001b[39;00m\n\u001b[0;32m    362\u001b[0m \u001b[38;5;124;03m    \"\"\"\u001b[39;00m\n\u001b[1;32m--> 363\u001b[0m     \u001b[43minternal_dpg\u001b[49m\u001b[38;5;241;43m.\u001b[39;49m\u001b[43mconfigure_item\u001b[49m\u001b[43m(\u001b[49m\u001b[43mitem\u001b[49m\u001b[43m,\u001b[49m\u001b[43m \u001b[49m\u001b[43mpos\u001b[49m\u001b[38;5;241;43m=\u001b[39;49m\u001b[43mpos\u001b[49m\u001b[43m)\u001b[49m\n",
      "\u001b[1;31mSystemError\u001b[0m: <built-in function configure_item> returned a result with an exception set"
     ]
    }
   ],
   "source": [
    "dpg.show_viewport()\n",
    "dpg.start_dearpygui()\n",
    "dpg.destroy_context()"
   ]
  }
 ],
 "metadata": {
  "kernelspec": {
   "display_name": "Python 3",
   "language": "python",
   "name": "python3"
  },
  "language_info": {
   "codemirror_mode": {
    "name": "ipython",
    "version": 3
   },
   "file_extension": ".py",
   "mimetype": "text/x-python",
   "name": "python",
   "nbconvert_exporter": "python",
   "pygments_lexer": "ipython3",
   "version": "3.10.6"
  }
 },
 "nbformat": 4,
 "nbformat_minor": 2
}

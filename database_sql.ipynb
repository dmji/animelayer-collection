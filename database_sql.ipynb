{
 "cells": [
  {
   "cell_type": "code",
   "execution_count": 12,
   "metadata": {},
   "outputs": [],
   "source": [
    "import sqlite3\n",
    "from src.database_torrentitem import *"
   ]
  },
  {
   "cell_type": "code",
   "execution_count": 13,
   "metadata": {},
   "outputs": [],
   "source": [
    "def init_tables():\n",
    "    # Открываем соединение с базой данных SQLite\n",
    "    conn = sqlite3.connect('sqlite.db')\n",
    "    \n",
    "    # Создаем таблицу \"items\"\n",
    "    c = conn.cursor()\n",
    "    c.execute(\n",
    "        '''\n",
    "        CREATE TABLE IF NOT EXISTS items (\n",
    "            guid TEXT,\n",
    "            name_original TEXT PRIMARY KEY,\n",
    "            name_translated TEXT,\n",
    "            status TEXT,\n",
    "            update_date TEXT,\n",
    "            update_created TEXT,\n",
    "            country TEXT,\n",
    "            type TEXT,\n",
    "            director TEXT,\n",
    "            serie_duration TEXT,\n",
    "            descriptions TEXT,\n",
    "            resolution TEXT,\n",
    "            subtitles TEXT,\n",
    "            language TEXT,\n",
    "            update_reason TEXT\n",
    "        )\n",
    "        ''')\n",
    "    \n",
    "    # Создаем таблицу \"categories\"\n",
    "    c.execute(\n",
    "        '''\n",
    "        CREATE TABLE IF NOT EXISTS categories (\n",
    "            id INTEGER PRIMARY KEY, name TEXT\n",
    "        )\n",
    "        ''')\n",
    "    \n",
    "    # Создаем таблицу \"genre\"\n",
    "    c.execute(\n",
    "        '''\n",
    "        CREATE TABLE IF NOT EXISTS genre (\n",
    "            id INTEGER PRIMARY KEY, \n",
    "            name TEXT\n",
    "        )\n",
    "        ''')\n",
    "    \n",
    "    # Создаем таблицу \"torrents\"\n",
    "    c.execute(\n",
    "        '''\n",
    "        CREATE TABLE IF NOT EXISTS torrents (\n",
    "            name_original TEXT PRIMARY KEY,\n",
    "            file_ref TEXT,\n",
    "            file_blob TEXT\n",
    "        )\n",
    "        ''')\n",
    "                    \n",
    "    # Создаем таблицу \"images\"\n",
    "    c.execute(\n",
    "        '''\n",
    "        CREATE TABLE IF NOT EXISTS images (\n",
    "            name_original TEXT PRIMARY KEY,\n",
    "            file_ref TEXT,\n",
    "            file_blob TEXT\n",
    "        )\n",
    "        ''')\n",
    "\n",
    "    conn.commit()\n",
    "    conn.close()\n",
    "    \n",
    "    print(\"База данных и таблицы успешно созданы\")"
   ]
  },
  {
   "cell_type": "code",
   "execution_count": 14,
   "metadata": {},
   "outputs": [],
   "source": [
    "def drop_tables():\n",
    "    # Открываем соединение с базой данных SQLite\n",
    "    conn = sqlite3.connect('sqlite.db')\n",
    "    \n",
    "    # Создаем таблицу \"items\"\n",
    "    c = conn.cursor()\n",
    "    c.execute('''DROP TABLE IF EXISTS items''')\n",
    "    \n",
    "    # Создаем таблицу \"categories\"\n",
    "    c.execute('''DROP TABLE IF EXISTS categories''')\n",
    "    \n",
    "    # Создаем таблицу \"genre\"\n",
    "    c.execute('''DROP TABLE IF EXISTS genre''')\n",
    "    \n",
    "    conn.commit()\n",
    "    conn.close()\n",
    "    \n",
    "    print(\"База данных и таблицы успешно созданы\")"
   ]
  },
  {
   "cell_type": "code",
   "execution_count": null,
   "metadata": {},
   "outputs": [],
   "source": [
    "def insert_or_error(conn, item):\n",
    "    cursor = conn.cursor()\n",
    "    \n",
    "    # Проверяем, существует ли запись с таким name_original\n",
    "    cursor.execute('SELECT * FROM items WHERE name_original = ?', (item.name_original,))\n",
    "    existing_item = cursor.fetchone()\n",
    "    \n",
    "    if existing_item is None:\n",
    "        # Если записи с таким name_original не существует, выполняем вставку\n",
    "        cursor.execute('''\n",
    "        INSERT INTO items (guid, name_original, name_translated, status, update_date, update_created, country, type, director, serie_duration, descriptions, resolution, subtitles, language, update_reason, poster_image_ref, poster_image_blob)\n",
    "        VALUES (?, ?, ?, ?, ?, ?, ?, ?, ?, ?, ?, ?, ?, ?, ?, ?)\n",
    "        ''', (item.guid, item.name_original, item.name_translated, item.status, item.update_date, item.update_created, item.country, item.type, item.director, item.serie_duration, item.descriptions, item.resolution, item.subtitles, item.language, item.update_reason, item.poster_image_ref, item.poster_image_blob))\n",
    "        conn.commit()\n",
    "        return \"OK\"\n",
    "    else:\n",
    "        # Если запись с таким name_original существует, проверяем отличия\n",
    "        existing_item = dict(existing_item)\n",
    "        new_item = item.__dict__\n",
    "        diff = {k: v for k, v in new_item.items() if v != existing_item.get(k)}\n",
    "        if diff:\n",
    "            return f\"Error: Fields {', '.join(diff.keys())} differ from the existing item\"\n",
    "        else:\n",
    "            return \"OK\"\n",
    "\n",
    "# Пример использования\n",
    "conn = sqlite3.connect('database.db')\n",
    "new_item = TorrentItem()\n",
    "# Заполните new_item данными\n",
    "result = insert_or_error(conn, new_item)\n",
    "print(result)\n",
    "conn.close()"
   ]
  },
  {
   "cell_type": "code",
   "execution_count": 15,
   "metadata": {},
   "outputs": [
    {
     "name": "stdout",
     "output_type": "stream",
     "text": [
      "База данных и таблицы успешно созданы\n"
     ]
    }
   ],
   "source": [
    "drop_tables()"
   ]
  },
  {
   "cell_type": "code",
   "execution_count": 16,
   "metadata": {},
   "outputs": [
    {
     "name": "stdout",
     "output_type": "stream",
     "text": [
      "База данных и таблицы успешно созданы\n"
     ]
    }
   ],
   "source": [
    "init_tables()"
   ]
  }
 ],
 "metadata": {
  "kernelspec": {
   "display_name": "Python 3",
   "language": "python",
   "name": "python3"
  },
  "language_info": {
   "codemirror_mode": {
    "name": "ipython",
    "version": 3
   },
   "file_extension": ".py",
   "mimetype": "text/x-python",
   "name": "python",
   "nbconvert_exporter": "python",
   "pygments_lexer": "ipython3",
   "version": "3.10.6"
  }
 },
 "nbformat": 4,
 "nbformat_minor": 2
}

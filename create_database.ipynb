{
 "cells": [
  {
   "cell_type": "code",
   "execution_count": 1,
   "metadata": {},
   "outputs": [],
   "source": [
    "#pip install --upgrade pip\n",
    "#pip install beautifulsoup4"
   ]
  },
  {
   "cell_type": "code",
   "execution_count": 2,
   "metadata": {},
   "outputs": [],
   "source": [
    "import requests\n",
    "from bs4 import BeautifulSoup\n",
    "import threading"
   ]
  },
  {
   "cell_type": "code",
   "execution_count": 3,
   "metadata": {},
   "outputs": [],
   "source": [
    "BASE_ADDRESS_URI = \"https://animelayer.ru\"\n",
    "THREAD_MAX = 25"
   ]
  },
  {
   "cell_type": "code",
   "execution_count": 4,
   "metadata": {},
   "outputs": [],
   "source": [
    "class TorrentData:\n",
    "    def init(self):\n",
    "        self.guid = \"\"\n",
    "        self.name = \"\"\n",
    "    def __str__(self):\n",
    "        return f'{self.guid}: {self.name}'\n",
    "    def __repr__(self):\n",
    "        return self.__str__()"
   ]
  },
  {
   "cell_type": "code",
   "execution_count": 5,
   "metadata": {},
   "outputs": [],
   "source": [
    "def get_identifiers_from_page(url):\n",
    "    response = requests.get(url)\n",
    "    if response.status_code == 200:\n",
    "        html_doc = response.text\n",
    "        soup = BeautifulSoup(html_doc, 'html.parser')\n",
    "        div_values = []\n",
    "        for div in soup.find_all('h3', {'class':'h2 m0'}):\n",
    "            style = div.attrs['style']\n",
    "            if(style.find(\"view-transition-name: title-\") > -1):\n",
    "                data = TorrentData()\n",
    "                data.guid = style.removeprefix(\"view-transition-name: title-\")\n",
    "                data.name = div.getText().replace('\\xa0', ' ')\n",
    "                div_values.append(data)\n",
    "        return div_values\n",
    "    else:\n",
    "        print(f'[{response.status_code}] {response.text}')\n",
    "        return None"
   ]
  },
  {
   "cell_type": "code",
   "execution_count": null,
   "metadata": {},
   "outputs": [],
   "source": [
    "def collectBaseItemsFromAddress(ADDRESS):\n",
    "    result = {}\n",
    "    pages = {}\n",
    "    def get_identifiers_from_page_async(iPage):\n",
    "        page = get_identifiers_from_page(f\"{ADDRESS}/?page={iPage}\")\n",
    "        result[iPage] = not (page == None or len(page) < 1)\n",
    "        if(result[iPage] == True):\n",
    "            pages[iPage] = page\n",
    "\n",
    "    iPage = 1\n",
    "    while True:\n",
    "        threads = []\n",
    "        for iThread in range(THREAD_MAX):\n",
    "                t = threading.Thread(target=get_identifiers_from_page_async, args=([iPage + iThread]))\n",
    "                t.start()\n",
    "                threads.append(t)\n",
    "\n",
    "        for t in threads:\n",
    "            t.join()\n",
    "\n",
    "        if(all(result.values()) == False):\n",
    "            break\n",
    "\n",
    "        iPage = iPage + THREAD_MAX"
   ]
  },
  {
   "cell_type": "code",
   "execution_count": 6,
   "metadata": {},
   "outputs": [],
   "source": [
    "pages = collectBaseItemsFromAddress(f\"{BASE_ADDRESS_URI}/torrents/anime/\")"
   ]
  }
 ],
 "metadata": {
  "kernelspec": {
   "display_name": "Python 3",
   "language": "python",
   "name": "python3"
  },
  "language_info": {
   "codemirror_mode": {
    "name": "ipython",
    "version": 3
   },
   "file_extension": ".py",
   "mimetype": "text/x-python",
   "name": "python",
   "nbconvert_exporter": "python",
   "pygments_lexer": "ipython3",
   "version": "3.10.6"
  }
 },
 "nbformat": 4,
 "nbformat_minor": 2
}

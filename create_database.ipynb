{
 "cells": [
  {
   "cell_type": "code",
   "execution_count": 1,
   "metadata": {},
   "outputs": [],
   "source": [
    "#pip install --upgrade pip\n",
    "#pip install beautifulsoup4"
   ]
  },
  {
   "cell_type": "markdown",
   "metadata": {},
   "source": [
    "# Сбор итемов"
   ]
  },
  {
   "cell_type": "code",
   "execution_count": 3,
   "metadata": {},
   "outputs": [],
   "source": [
    "import requests\n",
    "from bs4 import BeautifulSoup\n",
    "import threading\n",
    "from src.const_parameters import *\n",
    "from database_torrentitem import *\n",
    "\n",
    "def get_identifiers_from_page(url):\n",
    "    response = requests.get(url)\n",
    "    if response.status_code == 200:\n",
    "        html_doc = response.text\n",
    "        soup = BeautifulSoup(html_doc, 'html.parser')\n",
    "        div_values = []\n",
    "        for div in soup.find_all('h3', {'class':'h2 m0'}):\n",
    "            style = div.attrs['style']\n",
    "            if(style.find(\"view-transition-name: title-\") > -1):\n",
    "                data = TorrentItem()\n",
    "                data.guid = style.removeprefix(\"view-transition-name: title-\")\n",
    "                data.name = div.getText()\n",
    "                div_values.append(data)\n",
    "        return div_values\n",
    "    else:\n",
    "        print(f'[{response.status_code}] {response.text}')\n",
    "        return None\n",
    "    \n",
    "def collectBaseItemsFromAddress(SITE_ADDRESS, CATEGORY):\n",
    "    result = {}\n",
    "    pages = {}\n",
    "    def get_identifiers_from_page_async(iPage):\n",
    "        page = get_identifiers_from_page(f\"{SITE_ADDRESS}/torrents/{CATEGORY}/?page={iPage}\")\n",
    "        result[iPage] = not (page == None or len(page) < 1)\n",
    "        if(result[iPage] == True):\n",
    "            pages[iPage] = page\n",
    "\n",
    "    iPage = 1\n",
    "    while True:\n",
    "        threads = []\n",
    "        for iThread in range(THREAD_MAX):\n",
    "                t = threading.Thread(target=get_identifiers_from_page_async, args=([iPage + iThread]))\n",
    "                t.start()\n",
    "                threads.append(t)\n",
    "\n",
    "        for t in threads:\n",
    "            t.join()\n",
    "\n",
    "        if(all(result.values()) == False):\n",
    "            break\n",
    "\n",
    "        iPage = iPage + THREAD_MAX\n",
    "    return pages"
   ]
  },
  {
   "cell_type": "code",
   "execution_count": 4,
   "metadata": {},
   "outputs": [],
   "source": []
  },
  {
   "cell_type": "markdown",
   "metadata": {},
   "source": [
    "# Размещение итемов в папках"
   ]
  },
  {
   "cell_type": "code",
   "execution_count": 5,
   "metadata": {},
   "outputs": [],
   "source": [
    "import os"
   ]
  },
  {
   "cell_type": "code",
   "execution_count": 6,
   "metadata": {},
   "outputs": [],
   "source": [
    "def createFolderIfNotExist(s):\n",
    "    if not os.path.exists(s):\n",
    "        os.makedirs(s)"
   ]
  },
  {
   "cell_type": "code",
   "execution_count": 7,
   "metadata": {},
   "outputs": [],
   "source": [
    "def createFilesDataBase(category, pages):\n",
    "    createFolderIfNotExist(FOLDER_DATABASE)\n",
    "    categoryFolder = os.path.join(FOLDER_DATABASE, category)\n",
    "\n",
    "    createFolderIfNotExist(categoryFolder)\n",
    "\n",
    "    for key in pages:\n",
    "        for item in pages[key]:\n",
    "            itemBasePath = os.path.join(categoryFolder, item.guid)\n",
    "            if os.path.exists(itemBasePath):\n",
    "                itemInDB = TorrentItem.from_json(itemBasePath)\n",
    "                itemInDB.compareWith(item)\n",
    "            else:\n",
    "                item.to_json(itemBasePath + \".json\")"
   ]
  },
  {
   "cell_type": "markdown",
   "metadata": {},
   "source": [
    "# Выполнение"
   ]
  },
  {
   "cell_type": "code",
   "execution_count": 8,
   "metadata": {},
   "outputs": [],
   "source": [
    "def updateOrCreateDataBaseFiles(address, category:str):\n",
    "    pages = collectBaseItemsFromAddress(address, category)\n",
    "    category = category.replace('/', '_')\n",
    "    createFilesDataBase(category, pages)"
   ]
  },
  {
   "cell_type": "code",
   "execution_count": 9,
   "metadata": {},
   "outputs": [],
   "source": [
    "if(__name__ == \"__main__\"):\n",
    "    updateOrCreateDataBaseFiles(BASE_ADDRESS_URI, \"anime\")\n"
   ]
  }
 ],
 "metadata": {
  "kernelspec": {
   "display_name": "Python 3",
   "language": "python",
   "name": "python3"
  },
  "language_info": {
   "codemirror_mode": {
    "name": "ipython",
    "version": 3
   },
   "file_extension": ".py",
   "mimetype": "text/x-python",
   "name": "python",
   "nbconvert_exporter": "python",
   "pygments_lexer": "ipython3",
   "version": "3.10.6"
  }
 },
 "nbformat": 4,
 "nbformat_minor": 2
}

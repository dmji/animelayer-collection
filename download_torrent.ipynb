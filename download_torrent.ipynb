{
 "cells": [
  {
   "cell_type": "code",
   "execution_count": null,
   "metadata": {},
   "outputs": [],
   "source": [
    "import json\n",
    "import os\n",
    "import requests\n",
    "from bs4 import BeautifulSoup\n",
    "from src.utils import *\n",
    "from src.database_structure import *\n",
    "from src.const_parameters import *\n",
    "from src.auth import *"
   ]
  },
  {
   "cell_type": "code",
   "execution_count": null,
   "metadata": {},
   "outputs": [],
   "source": [
    "def enrichItem(session, path):\n",
    "    item =  TorrentData.from_json(path)\n",
    "    getStr = f\"{BASE_ADDRESS_URI}/torrent/{item.guid}/\"\n",
    "    response = session.get(getStr)\n",
    "    if response.status_code == 200:\n",
    "        html_doc = response.text\n",
    "        soup = BeautifulSoup(html_doc, 'html.parser')\n",
    "\n",
    "        for div in soup.find_all('img', {'style':f'view-transition-name: poster-{item.guid};'}):\n",
    "            item.ref_image = div.attrs['src']\n",
    "            if(len(item.ref_image) > 0):\n",
    "                if(item.ref_image.startswith(\"//\")):\n",
    "                    item.ref_image = \"https:\" +  item.ref_image\n",
    "            else:\n",
    "                print(f\"Image no found for guid: {item.guid}\")\n",
    "                \n",
    "        for div in soup.find_all('div', {'style':f'view-transition-name: description-{item.guid}'}):\n",
    "            for ch in div.children:\n",
    "                item.descriptions.append(str(ch))\n",
    "\n",
    "        item.to_json(path)\n",
    "        print(f\"Enrich {path} success!\")\n",
    "    else:\n",
    "        print(f\"Enrich {path} failed!\")"
   ]
  },
  {
   "cell_type": "code",
   "execution_count": null,
   "metadata": {},
   "outputs": [],
   "source": [
    "def downloadTorrent(session, path):\n",
    "    item =  TorrentData.from_json(path)\n",
    "    response = session.get(f\"{BASE_ADDRESS_URI}/torrent/{item.guid}/download/\")\n",
    "    with open(change_extension(path, \".torrent\"), 'wb') as file:\n",
    "        file.write(response.content)"
   ]
  },
  {
   "cell_type": "code",
   "execution_count": null,
   "metadata": {},
   "outputs": [],
   "source": [
    "def downloadPoster(session, path):\n",
    "    item =  TorrentData.from_json(path)\n",
    "    response = session.get(item.ref_image)\n",
    "    base_name, extension = os.path.splitext(item.ref_image)\n",
    "    with open(change_extension(path, extension), 'wb') as file:\n",
    "        file.write(response.content)"
   ]
  },
  {
   "cell_type": "markdown",
   "metadata": {},
   "source": [
    "# Выполнение"
   ]
  },
  {
   "cell_type": "code",
   "execution_count": null,
   "metadata": {},
   "outputs": [],
   "source": [
    "if(__name__ == \"__main__\"):\n",
    "    loginData = readLogindata(\"credentials.json\")\n",
    "    session = createSessionWithLogin(loginData)\n",
    "    \n",
    "    files = get_json_files(FOLDER_DATABASE)\n",
    "    for path in files:\n",
    "        enrichItem(session, path)\n",
    "        downloadPoster(session, path)\n",
    "        downloadTorrent(session, path)\n"
   ]
  }
 ],
 "metadata": {
  "kernelspec": {
   "display_name": "Python 3",
   "language": "python",
   "name": "python3"
  },
  "language_info": {
   "codemirror_mode": {
    "name": "ipython",
    "version": 3
   },
   "file_extension": ".py",
   "mimetype": "text/x-python",
   "name": "python",
   "nbconvert_exporter": "python",
   "pygments_lexer": "ipython3",
   "version": "3.10.6"
  }
 },
 "nbformat": 4,
 "nbformat_minor": 2
}

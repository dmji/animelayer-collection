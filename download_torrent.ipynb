{
 "cells": [
  {
   "cell_type": "code",
   "execution_count": 1,
   "metadata": {},
   "outputs": [],
   "source": [
    "import json\n",
    "import requests\n",
    "import os\n",
    "from src.const_parameters import *"
   ]
  },
  {
   "cell_type": "code",
   "execution_count": 2,
   "metadata": {},
   "outputs": [],
   "source": [
    "def readLogindata(path):\n",
    "    if(not os.path.exists(path)):\n",
    "        login_data = {\n",
    "            'login': \"\",\n",
    "            'password': \"\"\n",
    "        } \n",
    "        with open(path, 'w') as file:\n",
    "            json.dump(login_data, file)\n",
    "        return None"
   ]
  },
  {
   "cell_type": "code",
   "execution_count": null,
   "metadata": {},
   "outputs": [],
   "source": [
    "def createSessionWithLogin(login_data):\n",
    "    login_data = readLogindata(LOGIN_DATA_JSON)\n",
    "    if(login_data == None):\n",
    "        return None\n",
    "    \n",
    "    session = requests.Session()\n",
    "\n",
    "    # Отправляем POST-запрос\n",
    "    response = session.post(LOGIN_URL, data=login_data)\n",
    "    # Проверяем успешность авторизации\n",
    "    if response.status_code == 200:\n",
    "        print(\"Успешно выполнен вход на сайт\")\n",
    "        return session\n",
    "    else:\n",
    "        print(\"Ошибка при входе на сайт\")\n",
    "        return None"
   ]
  },
  {
   "cell_type": "code",
   "execution_count": 2,
   "metadata": {},
   "outputs": [],
   "source": [
    "response = requests.get(\"https://animelayer.ru/torrent/6534200101bc747f607ad604/\")\n",
    "if response.status_code == 200:\n",
    "    html_doc = response.text\n",
    "    soup = BeautifulSoup(html_doc, 'html.parser')"
   ]
  },
  {
   "cell_type": "code",
   "execution_count": 36,
   "metadata": {},
   "outputs": [],
   "source": [
    "json_data = json.dumps(login_data)"
   ]
  },
  {
   "cell_type": "code",
   "execution_count": 38,
   "metadata": {},
   "outputs": [],
   "source": []
  },
  {
   "cell_type": "code",
   "execution_count": 39,
   "metadata": {},
   "outputs": [],
   "source": [
    "with open('test.json', 'r') as file:\n",
    "    login_data = json.load(file)"
   ]
  },
  {
   "cell_type": "code",
   "execution_count": 21,
   "metadata": {},
   "outputs": [],
   "source": [
    "response = session.get(\"https://animelayer.ru/torrent/6534200101bc747f607ad604/download/\")\n",
    "with open(\"test.torrent\", 'wb') as file:\n",
    "    file.write(response.content)"
   ]
  },
  {
   "cell_type": "markdown",
   "metadata": {},
   "source": [
    "# Выполнение"
   ]
  },
  {
   "cell_type": "code",
   "execution_count": null,
   "metadata": {},
   "outputs": [],
   "source": []
  }
 ],
 "metadata": {
  "kernelspec": {
   "display_name": "Python 3",
   "language": "python",
   "name": "python3"
  },
  "language_info": {
   "codemirror_mode": {
    "name": "ipython",
    "version": 3
   },
   "file_extension": ".py",
   "mimetype": "text/x-python",
   "name": "python",
   "nbconvert_exporter": "python",
   "pygments_lexer": "ipython3",
   "version": "3.10.6"
  }
 },
 "nbformat": 4,
 "nbformat_minor": 2
}
